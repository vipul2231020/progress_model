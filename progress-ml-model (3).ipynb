{
 "cells": [
  {
   "cell_type": "markdown",
   "metadata": {},
   "source": [
    "# progress-ml-model\n",
    "\n",
    "Use the \"Run\" button to execute the code."
   ]
  },
  {
   "cell_type": "code",
   "execution_count": 15,
   "metadata": {},
   "outputs": [],
   "source": [
    "import pandas as pd\n",
    "import numpy as np"
   ]
  },
  {
   "cell_type": "code",
   "execution_count": 16,
   "metadata": {},
   "outputs": [],
   "source": [
    "df = pd.read_csv('data2.csv')"
   ]
  },
  {
   "cell_type": "code",
   "execution_count": 17,
   "metadata": {},
   "outputs": [
    {
     "data": {
      "text/html": [
       "<div>\n",
       "<style scoped>\n",
       "    .dataframe tbody tr th:only-of-type {\n",
       "        vertical-align: middle;\n",
       "    }\n",
       "\n",
       "    .dataframe tbody tr th {\n",
       "        vertical-align: top;\n",
       "    }\n",
       "\n",
       "    .dataframe thead th {\n",
       "        text-align: right;\n",
       "    }\n",
       "</style>\n",
       "<table border=\"1\" class=\"dataframe\">\n",
       "  <thead>\n",
       "    <tr style=\"text-align: right;\">\n",
       "      <th></th>\n",
       "      <th>ProjectID</th>\n",
       "      <th>TaskID</th>\n",
       "      <th>ProjectDuration</th>\n",
       "      <th>TaskDuration</th>\n",
       "      <th>TaskEffort</th>\n",
       "      <th>ResourceAllocation</th>\n",
       "      <th>StartDate</th>\n",
       "      <th>EndDate</th>\n",
       "      <th>Name</th>\n",
       "      <th>Domain Assigned</th>\n",
       "    </tr>\n",
       "  </thead>\n",
       "  <tbody>\n",
       "    <tr>\n",
       "      <th>0</th>\n",
       "      <td>1</td>\n",
       "      <td>101</td>\n",
       "      <td>60</td>\n",
       "      <td>10</td>\n",
       "      <td>20</td>\n",
       "      <td>3</td>\n",
       "      <td>2023-01-01</td>\n",
       "      <td>2023-02-28</td>\n",
       "      <td>Shaswat Singh</td>\n",
       "      <td>Design</td>\n",
       "    </tr>\n",
       "    <tr>\n",
       "      <th>1</th>\n",
       "      <td>1</td>\n",
       "      <td>102</td>\n",
       "      <td>60</td>\n",
       "      <td>15</td>\n",
       "      <td>30</td>\n",
       "      <td>2</td>\n",
       "      <td>2023-03-01</td>\n",
       "      <td>2023-04-30</td>\n",
       "      <td>Nidhi Sharma</td>\n",
       "      <td>Design</td>\n",
       "    </tr>\n",
       "    <tr>\n",
       "      <th>2</th>\n",
       "      <td>1</td>\n",
       "      <td>103</td>\n",
       "      <td>60</td>\n",
       "      <td>30</td>\n",
       "      <td>40</td>\n",
       "      <td>5</td>\n",
       "      <td>2023-05-01</td>\n",
       "      <td>2023-07-01</td>\n",
       "      <td>Arjun Patel</td>\n",
       "      <td>ML</td>\n",
       "    </tr>\n",
       "    <tr>\n",
       "      <th>3</th>\n",
       "      <td>1</td>\n",
       "      <td>104</td>\n",
       "      <td>60</td>\n",
       "      <td>15</td>\n",
       "      <td>25</td>\n",
       "      <td>4</td>\n",
       "      <td>2023-07-02</td>\n",
       "      <td>2023-08-30</td>\n",
       "      <td>Aarna Singh</td>\n",
       "      <td>Design</td>\n",
       "    </tr>\n",
       "    <tr>\n",
       "      <th>4</th>\n",
       "      <td>2</td>\n",
       "      <td>201</td>\n",
       "      <td>45</td>\n",
       "      <td>8</td>\n",
       "      <td>18</td>\n",
       "      <td>2</td>\n",
       "      <td>2023-02-01</td>\n",
       "      <td>2023-03-18</td>\n",
       "      <td>Advait Reddy</td>\n",
       "      <td>Mobile</td>\n",
       "    </tr>\n",
       "    <tr>\n",
       "      <th>...</th>\n",
       "      <td>...</td>\n",
       "      <td>...</td>\n",
       "      <td>...</td>\n",
       "      <td>...</td>\n",
       "      <td>...</td>\n",
       "      <td>...</td>\n",
       "      <td>...</td>\n",
       "      <td>...</td>\n",
       "      <td>...</td>\n",
       "      <td>...</td>\n",
       "    </tr>\n",
       "    <tr>\n",
       "      <th>96</th>\n",
       "      <td>24</td>\n",
       "      <td>346</td>\n",
       "      <td>50</td>\n",
       "      <td>14</td>\n",
       "      <td>22</td>\n",
       "      <td>2</td>\n",
       "      <td>2023-07-16</td>\n",
       "      <td>2023-08-30</td>\n",
       "      <td>Rohit</td>\n",
       "      <td>Backend</td>\n",
       "    </tr>\n",
       "    <tr>\n",
       "      <th>97</th>\n",
       "      <td>25</td>\n",
       "      <td>347</td>\n",
       "      <td>70</td>\n",
       "      <td>14</td>\n",
       "      <td>28</td>\n",
       "      <td>4</td>\n",
       "      <td>2023-01-10</td>\n",
       "      <td>2023-03-20</td>\n",
       "      <td>Guru</td>\n",
       "      <td>Design</td>\n",
       "    </tr>\n",
       "    <tr>\n",
       "      <th>98</th>\n",
       "      <td>25</td>\n",
       "      <td>348</td>\n",
       "      <td>70</td>\n",
       "      <td>20</td>\n",
       "      <td>35</td>\n",
       "      <td>3</td>\n",
       "      <td>2023-03-21</td>\n",
       "      <td>2023-05-20</td>\n",
       "      <td>Tanishka</td>\n",
       "      <td>Frontend</td>\n",
       "    </tr>\n",
       "    <tr>\n",
       "      <th>99</th>\n",
       "      <td>25</td>\n",
       "      <td>349</td>\n",
       "      <td>70</td>\n",
       "      <td>38</td>\n",
       "      <td>50</td>\n",
       "      <td>6</td>\n",
       "      <td>2023-05-21</td>\n",
       "      <td>2023-08-05</td>\n",
       "      <td>Subh</td>\n",
       "      <td>Backend</td>\n",
       "    </tr>\n",
       "    <tr>\n",
       "      <th>100</th>\n",
       "      <td>25</td>\n",
       "      <td>350</td>\n",
       "      <td>70</td>\n",
       "      <td>16</td>\n",
       "      <td>26</td>\n",
       "      <td>5</td>\n",
       "      <td>2023-08-06</td>\n",
       "      <td>2023-10-15</td>\n",
       "      <td>Devansh</td>\n",
       "      <td>ML</td>\n",
       "    </tr>\n",
       "  </tbody>\n",
       "</table>\n",
       "<p>101 rows × 10 columns</p>\n",
       "</div>"
      ],
      "text/plain": [
       "     ProjectID  TaskID  ProjectDuration  TaskDuration  TaskEffort  \\\n",
       "0            1     101               60            10          20   \n",
       "1            1     102               60            15          30   \n",
       "2            1     103               60            30          40   \n",
       "3            1     104               60            15          25   \n",
       "4            2     201               45             8          18   \n",
       "..         ...     ...              ...           ...         ...   \n",
       "96          24     346               50            14          22   \n",
       "97          25     347               70            14          28   \n",
       "98          25     348               70            20          35   \n",
       "99          25     349               70            38          50   \n",
       "100         25     350               70            16          26   \n",
       "\n",
       "     ResourceAllocation   StartDate     EndDate           Name Domain Assigned  \n",
       "0                     3  2023-01-01  2023-02-28  Shaswat Singh          Design  \n",
       "1                     2  2023-03-01  2023-04-30   Nidhi Sharma          Design  \n",
       "2                     5  2023-05-01  2023-07-01    Arjun Patel              ML  \n",
       "3                     4  2023-07-02  2023-08-30    Aarna Singh          Design  \n",
       "4                     2  2023-02-01  2023-03-18   Advait Reddy          Mobile  \n",
       "..                  ...         ...         ...            ...             ...  \n",
       "96                    2  2023-07-16  2023-08-30          Rohit         Backend  \n",
       "97                    4  2023-01-10  2023-03-20           Guru          Design  \n",
       "98                    3  2023-03-21  2023-05-20       Tanishka        Frontend  \n",
       "99                    6  2023-05-21  2023-08-05           Subh         Backend  \n",
       "100                   5  2023-08-06  2023-10-15        Devansh              ML  \n",
       "\n",
       "[101 rows x 10 columns]"
      ]
     },
     "execution_count": 17,
     "metadata": {},
     "output_type": "execute_result"
    }
   ],
   "source": [
    "df"
   ]
  },
  {
   "cell_type": "code",
   "execution_count": 18,
   "metadata": {},
   "outputs": [],
   "source": [
    "\n",
    "from sklearn.model_selection import train_test_split\n",
    "from sklearn.linear_model import LinearRegression\n",
    "from sklearn.metrics import mean_absolute_error\n",
    "\n",
    "df['StartDate'] = pd.to_datetime(df['StartDate'])\n",
    "df['EndDate'] = pd.to_datetime(df['EndDate'])\n",
    "df['ProjectDuration'] = (df['EndDate'] - df['StartDate']).dt.days\n",
    "df['TaskStartDate'] = pd.to_datetime(df['StartDate']) + pd.to_timedelta(df['TaskDuration'], unit='D')\n"
   ]
  },
  {
   "cell_type": "markdown",
   "metadata": {},
   "source": [
    "##  task completion percentage"
   ]
  },
  {
   "cell_type": "code",
   "execution_count": 19,
   "metadata": {},
   "outputs": [],
   "source": [
    "df['TaskCompletion'] = (df['TaskDuration'] / df['ProjectDuration']) * 100"
   ]
  },
  {
   "cell_type": "markdown",
   "metadata": {},
   "source": [
    "## Selecting relevant features for training the model"
   ]
  },
  {
   "cell_type": "code",
   "execution_count": 20,
   "metadata": {},
   "outputs": [],
   "source": [
    "features = ['ProjectDuration', 'TaskDuration', 'ResourceAllocation']"
   ]
  },
  {
   "cell_type": "markdown",
   "metadata": {},
   "source": [
    "## Applying Linear Regression and splitting training and testing data "
   ]
  },
  {
   "cell_type": "code",
   "execution_count": 21,
   "metadata": {},
   "outputs": [
    {
     "name": "stdout",
     "output_type": "stream",
     "text": [
      "Mean Absolute Error: 1.9567378146224197\n"
     ]
    }
   ],
   "source": [
    "\n",
    "X_train, X_test, y_train, y_test = train_test_split(df[features], df['TaskCompletion'], test_size=0.2, random_state=42)\n",
    "\n",
    "model = LinearRegression()\n",
    "model.fit(X_train, y_train)\n",
    "\n",
    "y_pred = model.predict(X_test)\n",
    "mae = mean_absolute_error(y_test, y_pred)\n",
    "print(f'Mean Absolute Error: {mae}')"
   ]
  },
  {
   "cell_type": "markdown",
   "metadata": {},
   "source": [
    "## Task Completion prediction"
   ]
  },
  {
   "cell_type": "code",
   "execution_count": 22,
   "metadata": {},
   "outputs": [],
   "source": [
    "\n",
    "def evaluate_team_performance(ProjectID=None):\n",
    "    if ProjectID is not None:\n",
    "        team_data = df[df['ProjectID'] == ProjectID]\n",
    "\n",
    "        team_data.loc[:, 'StartDate'] = pd.to_datetime(team_data['StartDate'])\n",
    "        team_data.loc[:, 'EndDate'] = pd.to_datetime(team_data['EndDate'])\n",
    "        team_data.loc[:, 'ProjectDuration'] = (team_data['EndDate'] - team_data['StartDate']).dt.days\n",
    "        team_data.loc[:, 'TaskStartDate'] = team_data['StartDate'] + pd.to_timedelta(team_data['TaskDuration'], unit='D')\n",
    "        team_data.loc[:, 'TaskCompletion'] = (team_data['TaskDuration'] / team_data['ProjectDuration']) * 100\n",
    "\n",
    "        team_features = team_data[features]\n",
    "\n",
    " \n",
    "        team_data['PredictedTaskCompletion'] = model.predict(team_features)\n",
    "\n",
    "        print(f'\\nPredicted Task Completion for Project {ProjectID}:')\n",
    "        print(team_data[['Domain Assigned', 'Name', 'TaskCompletion', 'PredictedTaskCompletion']])"
   ]
  },
  {
   "cell_type": "code",
   "execution_count": 23,
   "metadata": {},
   "outputs": [
    {
     "name": "stdout",
     "output_type": "stream",
     "text": [
      "\n",
      "Predicted Task Completion for Project 20:\n",
      "   Domain Assigned              Name  TaskCompletion  PredictedTaskCompletion\n",
      "76              ML        Mira Menon       20.289855                19.520423\n",
      "77          Mobile         Dev Mehta       33.333333                33.110310\n",
      "78         Backend  Ishika Singhania       50.000000                54.219025\n",
      "79         Backend        Yash Patel       22.857143                22.363791\n"
     ]
    },
    {
     "name": "stderr",
     "output_type": "stream",
     "text": [
      "/opt/conda/lib/python3.9/site-packages/pandas/core/indexing.py:1773: SettingWithCopyWarning: \n",
      "A value is trying to be set on a copy of a slice from a DataFrame.\n",
      "Try using .loc[row_indexer,col_indexer] = value instead\n",
      "\n",
      "See the caveats in the documentation: https://pandas.pydata.org/pandas-docs/stable/user_guide/indexing.html#returning-a-view-versus-a-copy\n",
      "  self._setitem_single_column(ilocs[0], value, pi)\n",
      "/tmp/ipykernel_47/1607997839.py:14: SettingWithCopyWarning: \n",
      "A value is trying to be set on a copy of a slice from a DataFrame.\n",
      "Try using .loc[row_indexer,col_indexer] = value instead\n",
      "\n",
      "See the caveats in the documentation: https://pandas.pydata.org/pandas-docs/stable/user_guide/indexing.html#returning-a-view-versus-a-copy\n",
      "  team_data['PredictedTaskCompletion'] = model.predict(team_features)\n"
     ]
    }
   ],
   "source": [
    "evaluate_team_performance(ProjectID=20)"
   ]
  },
  {
   "cell_type": "code",
   "execution_count": 26,
   "metadata": {},
   "outputs": [],
   "source": [
    "import pickle\n",
    "pickle.dump(model, open('model.pkl','wb'))\n",
    "pickle.dump(df,open('df.pkl','wb'))"
   ]
  },
  {
   "cell_type": "code",
   "execution_count": null,
   "metadata": {},
   "outputs": [],
   "source": []
  },
  {
   "cell_type": "code",
   "execution_count": null,
   "metadata": {},
   "outputs": [],
   "source": []
  }
 ],
 "metadata": {
  "kernelspec": {
   "display_name": "Python 3 (ipykernel)",
   "language": "python",
   "name": "python3"
  },
  "language_info": {
   "codemirror_mode": {
    "name": "ipython",
    "version": 3
   },
   "file_extension": ".py",
   "mimetype": "text/x-python",
   "name": "python",
   "nbconvert_exporter": "python",
   "pygments_lexer": "ipython3",
   "version": "3.9.7"
  }
 },
 "nbformat": 4,
 "nbformat_minor": 2
}
